{
 "cells": [
  {
   "cell_type": "code",
   "execution_count": null,
   "id": "7e1bd69d",
   "metadata": {},
   "outputs": [],
   "source": [
    "n = 1\n",
    "m = 1\n",
    "p = 1\n",
    "o = 2\n",
    "lista = []\n",
    "for x in range(n+1):\n",
    "    for j in range(m+1):\n",
    "        for k in range(p+1):\n",
    "            if x+j+k !=o:\n",
    "                lista.append([x,j,k])\n",
    "print(lista)\n",
    "    "
   ]
  },
  {
   "cell_type": "code",
   "execution_count": null,
   "id": "451ed759",
   "metadata": {},
   "outputs": [],
   "source": [
    "n = 1\n",
    "x = 1\n",
    "y = 1\n",
    "z = 1\n",
    "[[a,b,c] for a in range(x+1) for b in range(y+1) for c in range(z+1) if a+b+c !=n]"
   ]
  },
  {
   "cell_type": "code",
   "execution_count": null,
   "id": "432cd66d",
   "metadata": {},
   "outputs": [],
   "source": [
    "n = int(input())\n",
    "arr = map(int, input().split())\n",
    "m = list(max(arr))\n",
    "while list(max(arr)) == m:\n",
    "    arr.remove(max(arr))\n",
    "print(max(arr))"
   ]
  },
  {
   "cell_type": "code",
   "execution_count": null,
   "id": "d8143d3d",
   "metadata": {},
   "outputs": [],
   "source": [
    "lst = [1,1]\n",
    "ones = 0\n",
    "for i in lst:\n",
    "    if i == 1 and i == i+1:\n",
    "        ones += 1\n",
    "print(ones)"
   ]
  },
  {
   "cell_type": "code",
   "execution_count": null,
   "id": "75597013",
   "metadata": {},
   "outputs": [],
   "source": [
    "lista = [1,1,0]\n",
    "ines = 0\n",
    "for i in lista:\n",
    "    \n",
    "    if i == 1 and lista[i+1] == 1:\n",
    "        ines += 1\n",
    "print(ines)"
   ]
  },
  {
   "cell_type": "code",
   "execution_count": null,
   "id": "0bcea4e3",
   "metadata": {},
   "outputs": [],
   "source": [
    "lista[1]"
   ]
  },
  {
   "cell_type": "code",
   "execution_count": null,
   "id": "1e4980b9",
   "metadata": {},
   "outputs": [],
   "source": [
    "bin(10\n",
    "   )"
   ]
  },
  {
   "cell_type": "code",
   "execution_count": null,
   "id": "15e3ef49",
   "metadata": {},
   "outputs": [],
   "source": [
    "bin(10).split('0')"
   ]
  },
  {
   "cell_type": "code",
   "execution_count": null,
   "id": "6b395454",
   "metadata": {},
   "outputs": [],
   "source": [
    "bin(1001)"
   ]
  },
  {
   "cell_type": "code",
   "execution_count": null,
   "id": "a780d399",
   "metadata": {},
   "outputs": [],
   "source": [
    "len(max(bin(int(input()))[2:].split('0')))"
   ]
  },
  {
   "cell_type": "code",
   "execution_count": null,
   "id": "e619b375",
   "metadata": {},
   "outputs": [],
   "source": [
    "arr = []\n",
    "\n",
    "for _ in range(6):\n",
    "    arr.append(list(map(int, input().rstrip().split())))\n",
    "    print(arr)"
   ]
  },
  {
   "cell_type": "code",
   "execution_count": null,
   "id": "ab3b7fff",
   "metadata": {},
   "outputs": [],
   "source": [
    "arr"
   ]
  },
  {
   "cell_type": "code",
   "execution_count": null,
   "id": "68b98228",
   "metadata": {},
   "outputs": [],
   "source": [
    "for x in range(0,4):\n",
    "    for y in range(0,4):\n",
    "        res = sum(arr[x][y:y+3]) + arr[x+1][y+1] + sum(arr[x+2][y:y+3])\n",
    "print(max(res))    "
   ]
  },
  {
   "cell_type": "code",
   "execution_count": null,
   "id": "b696b01d",
   "metadata": {},
   "outputs": [],
   "source": [
    "res = []\n",
    "\n",
    "for x in range(0, 4):\n",
    "    for y in range(0, 4):\n",
    "        s = sum(arr[x][y:y+3]) + arr[x+1][y+1] + sum(arr[x+2][y:y+3])\n",
    "        res.append(s)\n",
    "\n",
    "print(max(res))"
   ]
  },
  {
   "cell_type": "code",
   "execution_count": null,
   "id": "d9301681",
   "metadata": {},
   "outputs": [],
   "source": [
    "array = [[1,2],[3,4],[5,6],[7,8],[9,0]]"
   ]
  },
  {
   "cell_type": "code",
   "execution_count": null,
   "id": "b1b5753e",
   "metadata": {},
   "outputs": [],
   "source": [
    "s = 0\n",
    "for i in array[0]:\n",
    "    s += i\n",
    "print(s)"
   ]
  },
  {
   "cell_type": "code",
   "execution_count": null,
   "id": "95efa5af",
   "metadata": {},
   "outputs": [],
   "source": [
    "arr = [[1,2,1,3,7],\n",
    "      [3,4,11,33,77],\n",
    "      [5,6,111,333,777],\n",
    "      [8,9,10,222,888]]\n",
    "# s = 0\n",
    "# for i in range(0,3):\n",
    "#     for j in range(0,2):\n",
    "#         s = sum(arr[i,j])\n",
    "#     print(s)"
   ]
  },
  {
   "cell_type": "code",
   "execution_count": null,
   "id": "d23ba7e1",
   "metadata": {},
   "outputs": [],
   "source": [
    "max_sum = 0\n",
    "for i in range(0,5):\n",
    "    for j in range(0,5):\n",
    "        temp_sum = 0\n",
    "        temp_sum += arr[i][j]\n",
    "        temp_sum += arr[i][j+1]\n",
    "        temp_sum += arr[i][j+2]\n",
    "  \n",
    "        temp_sum += arr[i+1][j+1]\n",
    "\n",
    "        temp_sum += arr[i+2][j]\n",
    "        temp_sum += arr[i+2][j+1]\n",
    "        temp_sum += arr[i+2][j+2]\n",
    "            \n",
    "        if temp_sum > max_sum:\n",
    "            max_sum = temp_sum"
   ]
  },
  {
   "cell_type": "code",
   "execution_count": null,
   "id": "fec0b55c",
   "metadata": {},
   "outputs": [],
   "source": [
    "arr"
   ]
  },
  {
   "cell_type": "code",
   "execution_count": null,
   "id": "82fc02a6",
   "metadata": {},
   "outputs": [],
   "source": [
    "res = []\n",
    "\n",
    "for x in range(0, 4):\n",
    "    for y in range(0, 4):\n",
    "        s = sum(arr[x][y:y+3]) + arr[x+1][y+1] + sum(arr[x+2][y:y+3])\n",
    "        res.append(s)\n",
    "\n",
    "print(max(res))"
   ]
  },
  {
   "cell_type": "code",
   "execution_count": 1,
   "id": "1aa37d20",
   "metadata": {},
   "outputs": [
    {
     "name": "stdout",
     "output_type": "stream",
     "text": [
      "1 2 3 4 5 6\n",
      "7 8 9 10 11 12\n",
      "13 14 15 16 17 18\n",
      "19 20 21 22 23 24\n",
      "25 26 27 28 29 30\n",
      "31 32 33 34 35 36\n"
     ]
    }
   ],
   "source": [
    "arr = []\n",
    "for _ in range(6):\n",
    "    arr.append(list(map(int, input().rstrip().split())))"
   ]
  },
  {
   "cell_type": "code",
   "execution_count": 2,
   "id": "23dd6d08",
   "metadata": {},
   "outputs": [
    {
     "data": {
      "text/plain": [
       "[[1, 2, 3, 4, 5, 6],\n",
       " [7, 8, 9, 10, 11, 12],\n",
       " [13, 14, 15, 16, 17, 18],\n",
       " [19, 20, 21, 22, 23, 24],\n",
       " [25, 26, 27, 28, 29, 30],\n",
       " [31, 32, 33, 34, 35, 36]]"
      ]
     },
     "execution_count": 2,
     "metadata": {},
     "output_type": "execute_result"
    }
   ],
   "source": [
    "arr"
   ]
  },
  {
   "cell_type": "code",
   "execution_count": 3,
   "id": "1b38906c",
   "metadata": {},
   "outputs": [
    {
     "name": "stdout",
     "output_type": "stream",
     "text": [
      "203\n"
     ]
    }
   ],
   "source": [
    "res = []\n",
    "\n",
    "for x in range(0, 4):\n",
    "    for y in range(0, 4):\n",
    "        s = sum(arr[x][y:y+3]) + arr[x+1][y+1] + sum(arr[x+2][y:y+3])\n",
    "        res.append(s)\n",
    "\n",
    "print(max(res))"
   ]
  },
  {
   "cell_type": "code",
   "execution_count": 4,
   "id": "7ec80284",
   "metadata": {},
   "outputs": [
    {
     "data": {
      "text/plain": [
       "203"
      ]
     },
     "execution_count": 4,
     "metadata": {},
     "output_type": "execute_result"
    }
   ],
   "source": [
    "22+23+24+29+34+35+36"
   ]
  },
  {
   "cell_type": "code",
   "execution_count": 5,
   "id": "ca541bda",
   "metadata": {},
   "outputs": [
    {
     "data": {
      "text/plain": [
       "[56, 63, 70, 77, 98, 105, 112, 119, 140, 147, 154, 161, 182, 189, 196, 203]"
      ]
     },
     "execution_count": 5,
     "metadata": {},
     "output_type": "execute_result"
    }
   ],
   "source": [
    "res"
   ]
  },
  {
   "cell_type": "code",
   "execution_count": 7,
   "id": "f94254aa",
   "metadata": {},
   "outputs": [
    {
     "data": {
      "text/plain": [
       "56"
      ]
     },
     "execution_count": 7,
     "metadata": {},
     "output_type": "execute_result"
    }
   ],
   "source": [
    "sum(arr[0][0:3]) + arr[1][1] + sum(arr[2][0:3])"
   ]
  },
  {
   "cell_type": "code",
   "execution_count": 12,
   "id": "4380b63e",
   "metadata": {},
   "outputs": [
    {
     "ename": "NameError",
     "evalue": "name 'Person' is not defined",
     "output_type": "error",
     "traceback": [
      "\u001b[0;31m---------------------------------------------------------------------------\u001b[0m",
      "\u001b[0;31mNameError\u001b[0m                                 Traceback (most recent call last)",
      "\u001b[0;32m<ipython-input-12-387eec731752>\u001b[0m in \u001b[0;36m<module>\u001b[0;34m\u001b[0m\n\u001b[0;32m----> 1\u001b[0;31m \u001b[0;32mclass\u001b[0m \u001b[0mStudent\u001b[0m\u001b[0;34m(\u001b[0m\u001b[0mPerson\u001b[0m\u001b[0;34m)\u001b[0m\u001b[0;34m:\u001b[0m\u001b[0;34m\u001b[0m\u001b[0;34m\u001b[0m\u001b[0m\n\u001b[0m\u001b[1;32m      2\u001b[0m \u001b[0;34m\u001b[0m\u001b[0m\n\u001b[1;32m      3\u001b[0m     \u001b[0;32mdef\u001b[0m \u001b[0m__init__\u001b[0m\u001b[0;34m(\u001b[0m\u001b[0mself\u001b[0m\u001b[0;34m,\u001b[0m \u001b[0mfirstName\u001b[0m\u001b[0;34m,\u001b[0m \u001b[0mlastName\u001b[0m\u001b[0;34m,\u001b[0m \u001b[0midNumber\u001b[0m\u001b[0;34m,\u001b[0m \u001b[0mscores\u001b[0m\u001b[0;34m)\u001b[0m\u001b[0;34m:\u001b[0m\u001b[0;34m\u001b[0m\u001b[0;34m\u001b[0m\u001b[0m\n\u001b[1;32m      4\u001b[0m         \u001b[0mself\u001b[0m\u001b[0;34m.\u001b[0m\u001b[0mfirstName\u001b[0m \u001b[0;34m=\u001b[0m \u001b[0mfirstName\u001b[0m\u001b[0;34m\u001b[0m\u001b[0;34m\u001b[0m\u001b[0m\n\u001b[1;32m      5\u001b[0m         \u001b[0mself\u001b[0m\u001b[0;34m.\u001b[0m\u001b[0mlastName\u001b[0m \u001b[0;34m=\u001b[0m \u001b[0mlastName\u001b[0m\u001b[0;34m\u001b[0m\u001b[0;34m\u001b[0m\u001b[0m\n",
      "\u001b[0;31mNameError\u001b[0m: name 'Person' is not defined"
     ]
    }
   ],
   "source": [
    "class Student(Person):\n",
    "    \n",
    "    def __init__(self, firstName, lastName, idNumber, scores): \n",
    "        self.firstName = firstName \n",
    "        self.lastName = lastName \n",
    "        self.idNumber = idNumber \n",
    "        self.scores = scores\n",
    "        \n",
    "    def calculate(self):\n",
    "        average = sum(scores)/len(scores)\n",
    "        if average < 40:\n",
    "            return('T')\n",
    "        elif average >= 40 and average < 55:\n",
    "            return('D')\n",
    "        elif average >= 55 and average < 70:\n",
    "            return('P')\n",
    "        elif average >= 70 and average < 80:\n",
    "            return('A')\n",
    "        elif average >= 80 and average < 90:\n",
    "            return('E')\n",
    "        elif average >= 90 and average < 101:\n",
    "            return('O')\n"
   ]
  },
  {
   "cell_type": "code",
   "execution_count": null,
   "id": "134465a9",
   "metadata": {},
   "outputs": [],
   "source": [
    "class MyBook(Book):\n",
    "    price = 0\n",
    "    def __init__(self, title, author, price):\n",
    "        super(Book, self).__init__\n",
    "        self.price = price\n",
    "        \n",
    "    def display(self):\n",
    "        print('Title: ' + title)\n",
    "        print('Author: ' + author)\n",
    "        print('Price: ' + str(price))"
   ]
  },
  {
   "cell_type": "code",
   "execution_count": null,
   "id": "8cc4d12e",
   "metadata": {},
   "outputs": [],
   "source": [
    "arra = [1,2,3,-4]\n",
    "abso = []\n",
    "for i in arra:\n",
    "    abso.append(abs(i))\n",
    "zeman = max(abso)\n",
    "print(zeman)"
   ]
  },
  {
   "cell_type": "code",
   "execution_count": null,
   "id": "493d30bf",
   "metadata": {},
   "outputs": [],
   "source": [
    "def computeDifference(self):\n",
    "    arr = self.__elements\n",
    "    abso = []\n",
    "    for i in self.__elements:\n",
    "        abso.append(abs(i))\n",
    "    self.maximumDifference = max(abso) - min(abso)"
   ]
  },
  {
   "cell_type": "code",
   "execution_count": 15,
   "id": "8da0eced",
   "metadata": {},
   "outputs": [
    {
     "name": "stdout",
     "output_type": "stream",
     "text": [
      "4\n"
     ]
    }
   ],
   "source": [
    "def computeDifference(self):\n",
    "    maxDiff = 0\n",
    "    arr = self.__elements\n",
    "    for i in range(len(arr)):\n",
    "        for j in range(i+1, len(arr)):\n",
    "            if abs(arr[j] - arr[i]) > maxDiff:\n",
    "                maxDiff = abs(arr[j] - arr[i])\n",
    "    self.maximumDifference = maxDiff"
   ]
  },
  {
   "cell_type": "code",
   "execution_count": null,
   "id": "b4f69dd0",
   "metadata": {},
   "outputs": [],
   "source": []
  }
 ],
 "metadata": {
  "kernelspec": {
   "display_name": "Python 3",
   "language": "python",
   "name": "python3"
  },
  "language_info": {
   "codemirror_mode": {
    "name": "ipython",
    "version": 3
   },
   "file_extension": ".py",
   "mimetype": "text/x-python",
   "name": "python",
   "nbconvert_exporter": "python",
   "pygments_lexer": "ipython3",
   "version": "3.8.10"
  }
 },
 "nbformat": 4,
 "nbformat_minor": 5
}
